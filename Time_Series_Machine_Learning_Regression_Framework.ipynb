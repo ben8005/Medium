{
  "nbformat": 4,
  "nbformat_minor": 0,
  "metadata": {
    "colab": {
      "name": "Time Series Machine Learning Regression Framework.ipynb",
      "version": "0.3.2",
      "provenance": [],
      "include_colab_link": true
    },
    "language_info": {
      "codemirror_mode": {
        "name": "ipython",
        "version": 3
      },
      "file_extension": ".py",
      "mimetype": "text/x-python",
      "name": "python",
      "nbconvert_exporter": "python",
      "pygments_lexer": "ipython3",
      "version": "3.6.8"
    },
    "kernelspec": {
      "name": "python3",
      "display_name": "Python 3"
    },
    "accelerator": "GPU"
  },
  "cells": [
    {
      "cell_type": "markdown",
      "metadata": {
        "id": "view-in-github",
        "colab_type": "text"
      },
      "source": [
        "<a href=\"https://colab.research.google.com/github/ben8005/Medium/blob/master/Time_Series_Machine_Learning_Regression_Framework.ipynb\" target=\"_parent\"><img src=\"https://colab.research.google.com/assets/colab-badge.svg\" alt=\"Open In Colab\"/></a>"
      ]
    },
    {
      "cell_type": "markdown",
      "metadata": {
        "id": "HPVTO3F1k15j",
        "colab_type": "text"
      },
      "source": [
        "# Time Series Machine Learning Regression Framework\n",
        "by Pourya Ayria APR 2019"
      ]
    },
    {
      "cell_type": "code",
      "metadata": {
        "id": "4cOScmy0k15k",
        "colab_type": "code",
        "colab": {}
      },
      "source": [
        "import pandas as pd\n",
        "import numpy as np\n",
        "import matplotlib.pyplot as plt\n",
        "%matplotlib inline\n",
        "\n",
        "from sklearn.pipeline import Pipeline\n",
        "from sklearn.metrics import mean_squared_log_error\n",
        "from sklearn.ensemble import RandomForestRegressor\n",
        "from lightgbm import LGBMRegressor\n",
        "from sklearn import base\n",
        "\n",
        "import warnings\n",
        "warnings.filterwarnings('ignore')"
      ],
      "execution_count": 0,
      "outputs": []
    },
    {
      "cell_type": "code",
      "metadata": {
        "id": "5bXnUBl4k9xW",
        "colab_type": "code",
        "colab": {
          "resources": {
            "http://localhost:8080/nbextensions/google.colab/files.js": {
              "data": "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",
              "ok": true,
              "headers": [
                [
                  "content-type",
                  "application/javascript"
                ]
              ],
              "status": 200,
              "status_text": ""
            }
          },
          "base_uri": "https://localhost:8080/",
          "height": 42
        },
        "outputId": "37ec89a1-221e-4a32-b28e-59505f2bd97d"
      },
      "source": [
        "from google.colab import files\n",
        "uploaded = files.upload()"
      ],
      "execution_count": 2,
      "outputs": [
        {
          "output_type": "display_data",
          "data": {
            "text/html": [
              "\n",
              "     <input type=\"file\" id=\"files-d87b1a86-f0de-4e4b-9f9a-2bd77892049c\" name=\"files[]\" multiple disabled />\n",
              "     <output id=\"result-d87b1a86-f0de-4e4b-9f9a-2bd77892049c\">\n",
              "      Upload widget is only available when the cell has been executed in the\n",
              "      current browser session. Please rerun this cell to enable.\n",
              "      </output>\n",
              "      <script src=\"/nbextensions/google.colab/files.js\"></script> "
            ],
            "text/plain": [
              "<IPython.core.display.HTML object>"
            ]
          },
          "metadata": {
            "tags": []
          }
        }
      ]
    },
    {
      "cell_type": "markdown",
      "metadata": {
        "id": "WojUyeEBk15n",
        "colab_type": "text"
      },
      "source": [
        "# Data Prepration\n",
        "We drop Normalised vlaues of weekly data: Normalised 0, Normalised 1, ..., Normalised 51 columns.\n",
        "Data can be found at https://archive.ics.uci.edu/ml/datasets/Sales_Transactions_Dataset_Weekly"
      ]
    },
    {
      "cell_type": "code",
      "metadata": {
        "id": "Koek3xsok15n",
        "colab_type": "code",
        "colab": {
          "base_uri": "https://localhost:8080/",
          "height": 431
        },
        "outputId": "ffb7619e-4d0e-459f-8529-2ed8ac0662e5"
      },
      "source": [
        "df_org = pd.read_csv('./Sales_Transactions_Dataset_Weekly (1).csv')\n",
        "df_org = df_org.filter(regex=r'Product|W')\n",
        "df_org.head()"
      ],
      "execution_count": 3,
      "outputs": [
        {
          "output_type": "error",
          "ename": "FileNotFoundError",
          "evalue": "ignored",
          "traceback": [
            "\u001b[0;31m---------------------------------------------------------------------------\u001b[0m",
            "\u001b[0;31mFileNotFoundError\u001b[0m                         Traceback (most recent call last)",
            "\u001b[0;32m<ipython-input-3-ff4542d47828>\u001b[0m in \u001b[0;36m<module>\u001b[0;34m()\u001b[0m\n\u001b[0;32m----> 1\u001b[0;31m \u001b[0mdf_org\u001b[0m \u001b[0;34m=\u001b[0m \u001b[0mpd\u001b[0m\u001b[0;34m.\u001b[0m\u001b[0mread_csv\u001b[0m\u001b[0;34m(\u001b[0m\u001b[0;34m'./Sales_Transactions_Dataset_Weekly (1).csv'\u001b[0m\u001b[0;34m)\u001b[0m\u001b[0;34m\u001b[0m\u001b[0;34m\u001b[0m\u001b[0m\n\u001b[0m\u001b[1;32m      2\u001b[0m \u001b[0mdf_org\u001b[0m \u001b[0;34m=\u001b[0m \u001b[0mdf_org\u001b[0m\u001b[0;34m.\u001b[0m\u001b[0mfilter\u001b[0m\u001b[0;34m(\u001b[0m\u001b[0mregex\u001b[0m\u001b[0;34m=\u001b[0m\u001b[0;34mr'Product|W'\u001b[0m\u001b[0;34m)\u001b[0m\u001b[0;34m\u001b[0m\u001b[0;34m\u001b[0m\u001b[0m\n\u001b[1;32m      3\u001b[0m \u001b[0mdf_org\u001b[0m\u001b[0;34m.\u001b[0m\u001b[0mhead\u001b[0m\u001b[0;34m(\u001b[0m\u001b[0;34m)\u001b[0m\u001b[0;34m\u001b[0m\u001b[0;34m\u001b[0m\u001b[0m\n",
            "\u001b[0;32m/usr/local/lib/python3.6/dist-packages/pandas/io/parsers.py\u001b[0m in \u001b[0;36mparser_f\u001b[0;34m(filepath_or_buffer, sep, delimiter, header, names, index_col, usecols, squeeze, prefix, mangle_dupe_cols, dtype, engine, converters, true_values, false_values, skipinitialspace, skiprows, skipfooter, nrows, na_values, keep_default_na, na_filter, verbose, skip_blank_lines, parse_dates, infer_datetime_format, keep_date_col, date_parser, dayfirst, iterator, chunksize, compression, thousands, decimal, lineterminator, quotechar, quoting, doublequote, escapechar, comment, encoding, dialect, tupleize_cols, error_bad_lines, warn_bad_lines, delim_whitespace, low_memory, memory_map, float_precision)\u001b[0m\n\u001b[1;32m    700\u001b[0m                     skip_blank_lines=skip_blank_lines)\n\u001b[1;32m    701\u001b[0m \u001b[0;34m\u001b[0m\u001b[0m\n\u001b[0;32m--> 702\u001b[0;31m         \u001b[0;32mreturn\u001b[0m \u001b[0m_read\u001b[0m\u001b[0;34m(\u001b[0m\u001b[0mfilepath_or_buffer\u001b[0m\u001b[0;34m,\u001b[0m \u001b[0mkwds\u001b[0m\u001b[0;34m)\u001b[0m\u001b[0;34m\u001b[0m\u001b[0;34m\u001b[0m\u001b[0m\n\u001b[0m\u001b[1;32m    703\u001b[0m \u001b[0;34m\u001b[0m\u001b[0m\n\u001b[1;32m    704\u001b[0m     \u001b[0mparser_f\u001b[0m\u001b[0;34m.\u001b[0m\u001b[0m__name__\u001b[0m \u001b[0;34m=\u001b[0m \u001b[0mname\u001b[0m\u001b[0;34m\u001b[0m\u001b[0;34m\u001b[0m\u001b[0m\n",
            "\u001b[0;32m/usr/local/lib/python3.6/dist-packages/pandas/io/parsers.py\u001b[0m in \u001b[0;36m_read\u001b[0;34m(filepath_or_buffer, kwds)\u001b[0m\n\u001b[1;32m    427\u001b[0m \u001b[0;34m\u001b[0m\u001b[0m\n\u001b[1;32m    428\u001b[0m     \u001b[0;31m# Create the parser.\u001b[0m\u001b[0;34m\u001b[0m\u001b[0;34m\u001b[0m\u001b[0;34m\u001b[0m\u001b[0m\n\u001b[0;32m--> 429\u001b[0;31m     \u001b[0mparser\u001b[0m \u001b[0;34m=\u001b[0m \u001b[0mTextFileReader\u001b[0m\u001b[0;34m(\u001b[0m\u001b[0mfilepath_or_buffer\u001b[0m\u001b[0;34m,\u001b[0m \u001b[0;34m**\u001b[0m\u001b[0mkwds\u001b[0m\u001b[0;34m)\u001b[0m\u001b[0;34m\u001b[0m\u001b[0;34m\u001b[0m\u001b[0m\n\u001b[0m\u001b[1;32m    430\u001b[0m \u001b[0;34m\u001b[0m\u001b[0m\n\u001b[1;32m    431\u001b[0m     \u001b[0;32mif\u001b[0m \u001b[0mchunksize\u001b[0m \u001b[0;32mor\u001b[0m \u001b[0miterator\u001b[0m\u001b[0;34m:\u001b[0m\u001b[0;34m\u001b[0m\u001b[0;34m\u001b[0m\u001b[0m\n",
            "\u001b[0;32m/usr/local/lib/python3.6/dist-packages/pandas/io/parsers.py\u001b[0m in \u001b[0;36m__init__\u001b[0;34m(self, f, engine, **kwds)\u001b[0m\n\u001b[1;32m    893\u001b[0m             \u001b[0mself\u001b[0m\u001b[0;34m.\u001b[0m\u001b[0moptions\u001b[0m\u001b[0;34m[\u001b[0m\u001b[0;34m'has_index_names'\u001b[0m\u001b[0;34m]\u001b[0m \u001b[0;34m=\u001b[0m \u001b[0mkwds\u001b[0m\u001b[0;34m[\u001b[0m\u001b[0;34m'has_index_names'\u001b[0m\u001b[0;34m]\u001b[0m\u001b[0;34m\u001b[0m\u001b[0;34m\u001b[0m\u001b[0m\n\u001b[1;32m    894\u001b[0m \u001b[0;34m\u001b[0m\u001b[0m\n\u001b[0;32m--> 895\u001b[0;31m         \u001b[0mself\u001b[0m\u001b[0;34m.\u001b[0m\u001b[0m_make_engine\u001b[0m\u001b[0;34m(\u001b[0m\u001b[0mself\u001b[0m\u001b[0;34m.\u001b[0m\u001b[0mengine\u001b[0m\u001b[0;34m)\u001b[0m\u001b[0;34m\u001b[0m\u001b[0;34m\u001b[0m\u001b[0m\n\u001b[0m\u001b[1;32m    896\u001b[0m \u001b[0;34m\u001b[0m\u001b[0m\n\u001b[1;32m    897\u001b[0m     \u001b[0;32mdef\u001b[0m \u001b[0mclose\u001b[0m\u001b[0;34m(\u001b[0m\u001b[0mself\u001b[0m\u001b[0;34m)\u001b[0m\u001b[0;34m:\u001b[0m\u001b[0;34m\u001b[0m\u001b[0;34m\u001b[0m\u001b[0m\n",
            "\u001b[0;32m/usr/local/lib/python3.6/dist-packages/pandas/io/parsers.py\u001b[0m in \u001b[0;36m_make_engine\u001b[0;34m(self, engine)\u001b[0m\n\u001b[1;32m   1120\u001b[0m     \u001b[0;32mdef\u001b[0m \u001b[0m_make_engine\u001b[0m\u001b[0;34m(\u001b[0m\u001b[0mself\u001b[0m\u001b[0;34m,\u001b[0m \u001b[0mengine\u001b[0m\u001b[0;34m=\u001b[0m\u001b[0;34m'c'\u001b[0m\u001b[0;34m)\u001b[0m\u001b[0;34m:\u001b[0m\u001b[0;34m\u001b[0m\u001b[0;34m\u001b[0m\u001b[0m\n\u001b[1;32m   1121\u001b[0m         \u001b[0;32mif\u001b[0m \u001b[0mengine\u001b[0m \u001b[0;34m==\u001b[0m \u001b[0;34m'c'\u001b[0m\u001b[0;34m:\u001b[0m\u001b[0;34m\u001b[0m\u001b[0;34m\u001b[0m\u001b[0m\n\u001b[0;32m-> 1122\u001b[0;31m             \u001b[0mself\u001b[0m\u001b[0;34m.\u001b[0m\u001b[0m_engine\u001b[0m \u001b[0;34m=\u001b[0m \u001b[0mCParserWrapper\u001b[0m\u001b[0;34m(\u001b[0m\u001b[0mself\u001b[0m\u001b[0;34m.\u001b[0m\u001b[0mf\u001b[0m\u001b[0;34m,\u001b[0m \u001b[0;34m**\u001b[0m\u001b[0mself\u001b[0m\u001b[0;34m.\u001b[0m\u001b[0moptions\u001b[0m\u001b[0;34m)\u001b[0m\u001b[0;34m\u001b[0m\u001b[0;34m\u001b[0m\u001b[0m\n\u001b[0m\u001b[1;32m   1123\u001b[0m         \u001b[0;32melse\u001b[0m\u001b[0;34m:\u001b[0m\u001b[0;34m\u001b[0m\u001b[0;34m\u001b[0m\u001b[0m\n\u001b[1;32m   1124\u001b[0m             \u001b[0;32mif\u001b[0m \u001b[0mengine\u001b[0m \u001b[0;34m==\u001b[0m \u001b[0;34m'python'\u001b[0m\u001b[0;34m:\u001b[0m\u001b[0;34m\u001b[0m\u001b[0;34m\u001b[0m\u001b[0m\n",
            "\u001b[0;32m/usr/local/lib/python3.6/dist-packages/pandas/io/parsers.py\u001b[0m in \u001b[0;36m__init__\u001b[0;34m(self, src, **kwds)\u001b[0m\n\u001b[1;32m   1851\u001b[0m         \u001b[0mkwds\u001b[0m\u001b[0;34m[\u001b[0m\u001b[0;34m'usecols'\u001b[0m\u001b[0;34m]\u001b[0m \u001b[0;34m=\u001b[0m \u001b[0mself\u001b[0m\u001b[0;34m.\u001b[0m\u001b[0musecols\u001b[0m\u001b[0;34m\u001b[0m\u001b[0;34m\u001b[0m\u001b[0m\n\u001b[1;32m   1852\u001b[0m \u001b[0;34m\u001b[0m\u001b[0m\n\u001b[0;32m-> 1853\u001b[0;31m         \u001b[0mself\u001b[0m\u001b[0;34m.\u001b[0m\u001b[0m_reader\u001b[0m \u001b[0;34m=\u001b[0m \u001b[0mparsers\u001b[0m\u001b[0;34m.\u001b[0m\u001b[0mTextReader\u001b[0m\u001b[0;34m(\u001b[0m\u001b[0msrc\u001b[0m\u001b[0;34m,\u001b[0m \u001b[0;34m**\u001b[0m\u001b[0mkwds\u001b[0m\u001b[0;34m)\u001b[0m\u001b[0;34m\u001b[0m\u001b[0;34m\u001b[0m\u001b[0m\n\u001b[0m\u001b[1;32m   1854\u001b[0m         \u001b[0mself\u001b[0m\u001b[0;34m.\u001b[0m\u001b[0munnamed_cols\u001b[0m \u001b[0;34m=\u001b[0m \u001b[0mself\u001b[0m\u001b[0;34m.\u001b[0m\u001b[0m_reader\u001b[0m\u001b[0;34m.\u001b[0m\u001b[0munnamed_cols\u001b[0m\u001b[0;34m\u001b[0m\u001b[0;34m\u001b[0m\u001b[0m\n\u001b[1;32m   1855\u001b[0m \u001b[0;34m\u001b[0m\u001b[0m\n",
            "\u001b[0;32mpandas/_libs/parsers.pyx\u001b[0m in \u001b[0;36mpandas._libs.parsers.TextReader.__cinit__\u001b[0;34m()\u001b[0m\n",
            "\u001b[0;32mpandas/_libs/parsers.pyx\u001b[0m in \u001b[0;36mpandas._libs.parsers.TextReader._setup_parser_source\u001b[0;34m()\u001b[0m\n",
            "\u001b[0;31mFileNotFoundError\u001b[0m: [Errno 2] File b'./Sales_Transactions_Dataset_Weekly (1).csv' does not exist: b'./Sales_Transactions_Dataset_Weekly (1).csv'"
          ]
        }
      ]
    },
    {
      "cell_type": "code",
      "metadata": {
        "id": "xN9M6BSIk15r",
        "colab_type": "code",
        "colab": {}
      },
      "source": [
        "df = df_org.melt(id_vars='Product_Code', var_name='Week', value_name='Sales')\n",
        "\n",
        "df['Product_Code'] = df['Product_Code'].str.extract('(\\d+)', expand=False).astype(int)\n",
        "df['Week'] = df['Week'].str.extract('(\\d+)', expand=False).astype(int)\n",
        "\n",
        "df = df.sort_values(['Week', 'Product_Code'])\n",
        "df.head(10)"
      ],
      "execution_count": 0,
      "outputs": []
    },
    {
      "cell_type": "code",
      "metadata": {
        "id": "bhB1CFRnk15t",
        "colab_type": "code",
        "colab": {}
      },
      "source": [
        "df.tail(10)"
      ],
      "execution_count": 0,
      "outputs": []
    },
    {
      "cell_type": "code",
      "metadata": {
        "id": "olj6gNERk15v",
        "colab_type": "code",
        "colab": {}
      },
      "source": [
        ""
      ],
      "execution_count": 0,
      "outputs": []
    },
    {
      "cell_type": "markdown",
      "metadata": {
        "id": "fJybVCkCk15x",
        "colab_type": "text"
      },
      "source": [
        "# To Supervised"
      ]
    },
    {
      "cell_type": "code",
      "metadata": {
        "id": "nLR4PYS2k15y",
        "colab_type": "code",
        "colab": {}
      },
      "source": [
        "class ToSupervised(base.BaseEstimator,base.TransformerMixin):\n",
        "    \n",
        "    def __init__(self,col,groupCol,numLags,dropna=False):\n",
        "        \n",
        "        self.col = col\n",
        "        self.groupCol = groupCol\n",
        "        self.numLags = numLags\n",
        "        self.dropna = dropna\n",
        "        \n",
        "    def fit(self,X,y=None):\n",
        "        self.X = X\n",
        "        return self\n",
        "    \n",
        "    def transform(self,X):\n",
        "        tmp = self.X.copy()\n",
        "        for i in range(1,self.numLags+1):\n",
        "            tmp[str(i)+'_Week_Ago'+\"_\"+self.col] = tmp.groupby([self.groupCol])[self.col].shift(i) \n",
        "            \n",
        "        if self.dropna:\n",
        "            tmp = tmp.dropna()\n",
        "            tmp = tmp.reset_index(drop=True)\n",
        "            \n",
        "        \n",
        "            \n",
        "        return tmp"
      ],
      "execution_count": 0,
      "outputs": []
    },
    {
      "cell_type": "code",
      "metadata": {
        "id": "nFvjNtAqk15z",
        "colab_type": "code",
        "colab": {}
      },
      "source": [
        "class ToSupervisedDiff(base.BaseEstimator,base.TransformerMixin):\n",
        "    \n",
        "    def __init__(self,col,groupCol,numLags,dropna=False):\n",
        "        \n",
        "        self.col = col\n",
        "        self.groupCol = groupCol\n",
        "        self.numLags = numLags\n",
        "        self.dropna = dropna\n",
        "        \n",
        "    def fit(self,X,y=None):\n",
        "        self.X = X\n",
        "        return self\n",
        "    \n",
        "    def transform(self,X):\n",
        "        tmp = self.X.copy()\n",
        "        for i in range(1,self.numLags+1):\n",
        "            tmp[str(i)+'_Week_Ago_Diff_'+\"_\"+self.col] = tmp.groupby([self.groupCol])[self.col].diff(i) \n",
        "            \n",
        "        if self.dropna:\n",
        "            tmp = tmp.dropna()\n",
        "            tmp = tmp.reset_index(drop=True)\n",
        "            \n",
        "        return tmp"
      ],
      "execution_count": 0,
      "outputs": []
    },
    {
      "cell_type": "code",
      "metadata": {
        "id": "0kQq5n1Kk151",
        "colab_type": "code",
        "colab": {}
      },
      "source": [
        ""
      ],
      "execution_count": 0,
      "outputs": []
    },
    {
      "cell_type": "markdown",
      "metadata": {
        "id": "xgea67RHk153",
        "colab_type": "text"
      },
      "source": [
        "# Time Series K-Fold"
      ]
    },
    {
      "cell_type": "code",
      "metadata": {
        "id": "JkJSHms5k154",
        "colab_type": "code",
        "colab": {}
      },
      "source": [
        "from itertools import chain\n",
        "class Kfold_time(object):\n",
        "    \n",
        "    def __init__(self,**options):\n",
        "        \n",
        "        \n",
        "        self.target     = options.pop('target', None)\n",
        "        self.date_col   = options.pop('date_col', None)\n",
        "        self.date_init  = options.pop('date_init', None)\n",
        "        self.date_final = options.pop('date_final', None)\n",
        "\n",
        "        if options:\n",
        "            raise TypeError(\"Invalid parameters passed: %s\" % str(options))\n",
        "            \n",
        "        if ((self.target==None )| (self.date_col==None )| (self.date_init==None ) | (self.date_final==None )):\n",
        "            raise TypeError(\"Incomplete inputs\")\n",
        "    \n",
        "    def _train_test_split_time(self,X):\n",
        "        n_arrays = len(X)\n",
        "        if n_arrays == 0:\n",
        "            raise ValueError(\"At least one array required as input\")\n",
        "\n",
        "        for i in range(self.date_init,self.date_final):\n",
        "\n",
        "            train = X[X[self.date_col] < i]\n",
        "            val   = X[X[self.date_col] == i]\n",
        "\n",
        "            X_train, X_test = train.drop([self.target], axis=1), val.drop([self.target], axis=1)\n",
        "            y_train, y_test = train[self.target].values, val[self.target].values\n",
        "\n",
        "            yield X_train, X_test, y_train, y_test\n",
        "\n",
        "    \n",
        "    def split(self,X):\n",
        "        cv_t = self._train_test_split_time(X)\n",
        "        return chain(cv_t)\n",
        "        "
      ],
      "execution_count": 0,
      "outputs": []
    },
    {
      "cell_type": "markdown",
      "metadata": {
        "id": "EIXOqYcJk155",
        "colab_type": "text"
      },
      "source": [
        "# Metric: RMSLE "
      ]
    },
    {
      "cell_type": "code",
      "metadata": {
        "id": "Gn_oEz5Gk156",
        "colab_type": "code",
        "colab": {}
      },
      "source": [
        "def rmsle(ytrue, ypred):\n",
        "    return np.sqrt(mean_squared_log_error(ytrue, ypred))"
      ],
      "execution_count": 0,
      "outputs": []
    },
    {
      "cell_type": "markdown",
      "metadata": {
        "id": "_IOiYNxzk157",
        "colab_type": "text"
      },
      "source": [
        "# Baseline Estimator"
      ]
    },
    {
      "cell_type": "code",
      "metadata": {
        "id": "Ow3J57g0k158",
        "colab_type": "code",
        "colab": {}
      },
      "source": [
        "class BaseEstimator(base.BaseEstimator, base.RegressorMixin):\n",
        "    def __init__(self, predCol):\n",
        "        \"\"\"\n",
        "            As a base model we assume the number of sales last week and this week are the same\n",
        "            Input: \n",
        "                    predCol: l-week ago sales\n",
        "        \"\"\"\n",
        "        self.predCol = predCol\n",
        "\n",
        "        \n",
        "    def fit(self, X, y):\n",
        "        return self\n",
        "\n",
        "\n",
        "    def predict(self, X):\n",
        "        prediction = X[self.predCol].values\n",
        "        return prediction\n",
        "\n",
        "    def score(self, X, y,scoring):\n",
        "        \n",
        "        prediction = self.predict(X)\n",
        "    \n",
        "        error =scoring(y, prediction)# np.sqrt(mean_squared_log_error(y, prediction))\n",
        "        return error "
      ],
      "execution_count": 0,
      "outputs": []
    },
    {
      "cell_type": "markdown",
      "metadata": {
        "id": "9cG0xN9bk159",
        "colab_type": "text"
      },
      "source": [
        "# Time Series Regression"
      ]
    },
    {
      "cell_type": "code",
      "metadata": {
        "id": "nrshtpRNk15-",
        "colab_type": "code",
        "colab": {}
      },
      "source": [
        "class TimeSeriesRegressor(base.BaseEstimator, base.RegressorMixin):\n",
        "    \n",
        "    def __init__(self,model,cv,scoring,verbosity=True):\n",
        "        self.model = model\n",
        "        self.cv = cv\n",
        "        self.verbosity = verbosity\n",
        "        self.scoring = scoring \n",
        "        \n",
        "            \n",
        "    def fit(self,X,y=None):\n",
        "        return self\n",
        "        \n",
        "    \n",
        "    def predict(self,X=None):\n",
        "        \n",
        "        pred = {}\n",
        "        for indx,fold in enumerate(self.cv.split(X)):\n",
        "\n",
        "            X_train, X_test, y_train, y_test = fold    \n",
        "            self.model.fit(X_train, y_train)\n",
        "            pred[str(indx)+'_fold'] = self.model.predict(X_test)\n",
        "            \n",
        "        prediction = pd.DataFrame(pred)\n",
        "    \n",
        "        return prediction\n",
        "    \n",
        "\n",
        "    def score(self,X,y=None):\n",
        "\n",
        "\n",
        "        errors = []\n",
        "        for indx,fold in enumerate(self.cv.split(X)):\n",
        "\n",
        "            X_train, X_test, y_train, y_test = fold    \n",
        "            self.model.fit(X_train, y_train)\n",
        "            prediction = self.model.predict(X_test)\n",
        "            error = self.scoring(y_test, prediction)\n",
        "            errors.append(error)\n",
        "\n",
        "            if self.verbosity:\n",
        "                print(\"Fold: {}, Error: {:.4f}\".format(indx,error))\n",
        "\n",
        "        if self.verbosity:\n",
        "            print('Total Error {:.4f}'.format(np.mean(errors)))\n",
        "\n",
        "        return errors"
      ],
      "execution_count": 0,
      "outputs": []
    },
    {
      "cell_type": "code",
      "metadata": {
        "id": "7RFyXuD4k16A",
        "colab_type": "code",
        "colab": {}
      },
      "source": [
        "class TimeSeriesRegressorLog(base.BaseEstimator, base.RegressorMixin):\n",
        "    \n",
        "    def __init__(self,model,cv,scoring,verbosity=True):\n",
        "        self.model = model\n",
        "        self.cv = cv\n",
        "        self.verbosity = verbosity\n",
        "        self.scoring = scoring\n",
        "        \n",
        "            \n",
        "    def fit(self,X,y=None):\n",
        "        return self\n",
        "        \n",
        "    \n",
        "    def predict(self,X=None):\n",
        "        \n",
        "        pred = {}\n",
        "        for indx,fold in enumerate(self.cv.split(X)):\n",
        "\n",
        "            X_train, X_test, y_train, y_test = fold    \n",
        "            self.model.fit(X_train, y_train)\n",
        "            pred[str(indx)+'_fold'] = self.model.predict(X_test)\n",
        "            \n",
        "        prediction = pd.DataFrame(pred)\n",
        "    \n",
        "        return prediction\n",
        "\n",
        "    \n",
        "    def score(self,X,y=None):#**options):\n",
        "\n",
        "\n",
        "        errors = []\n",
        "        for indx,fold in enumerate(self.cv.split(X)):\n",
        "\n",
        "            X_train, X_test, y_train, y_test = fold    \n",
        "            self.model.fit(X_train, np.log1p(y_train))\n",
        "            prediction = np.expm1(self.model.predict(X_test))\n",
        "            error = self.scoring(y_test, prediction)\n",
        "            errors.append(error)\n",
        "\n",
        "            if self.verbosity:\n",
        "                print(\"Fold: {}, Error: {:.4f}\".format(indx,error))\n",
        "\n",
        "        if self.verbosity:\n",
        "                print('Total Error {:.4f}'.format(np.mean(errors)))\n",
        "\n",
        "        return errors\n"
      ],
      "execution_count": 0,
      "outputs": []
    },
    {
      "cell_type": "markdown",
      "metadata": {
        "id": "dC_CuKXMk16B",
        "colab_type": "text"
      },
      "source": [
        "# Steps Tuning"
      ]
    },
    {
      "cell_type": "code",
      "metadata": {
        "id": "Lr8hNuHVk16C",
        "colab_type": "code",
        "colab": {}
      },
      "source": [
        "def getDataFramePipeline(i):\n",
        "    steps = [(str(i)+'_step',ToSupervised('Sales','Product_Code',i))]\n",
        "    for j in range(1,i+1):\n",
        "        if i==j:\n",
        "\n",
        "            pp = (str(j)+'_step_diff',\n",
        "                  ToSupervisedDiff(str(i)+'_Week_Ago_Sales','Product_Code',1,dropna=True))\n",
        "            steps.append(pp)\n",
        "        else:\n",
        "\n",
        "            pp = (str(j)+'_step_diff',\n",
        "                  ToSupervisedDiff(str(i)+'_Week_Ago_Sales','Product_Code',1))\n",
        "            steps.append(pp)\n",
        "            \n",
        "    return steps\n",
        "            "
      ],
      "execution_count": 0,
      "outputs": []
    },
    {
      "cell_type": "code",
      "metadata": {
        "id": "HSwBQdswk16E",
        "colab_type": "code",
        "colab": {}
      },
      "source": [
        ""
      ],
      "execution_count": 0,
      "outputs": []
    },
    {
      "cell_type": "code",
      "metadata": {
        "id": "T0iHWrAsk16G",
        "colab_type": "code",
        "colab": {}
      },
      "source": [
        "from tqdm import tqdm\n",
        "def stepsTune(X,model,num_steps,init=1):\n",
        "    scores = []\n",
        "    for i in tqdm(range(init,num_steps+1)):\n",
        "        steps = []\n",
        "        steps.extend(getDataFramePipeline(i))\n",
        "        steps.append(('predic_1',model))\n",
        "        super_ = Pipeline(steps).fit(X)\n",
        "        score_ = np.mean(super_.score(X))\n",
        "        scores.append((i,score_))\n",
        "        \n",
        "    return scores"
      ],
      "execution_count": 0,
      "outputs": []
    },
    {
      "cell_type": "code",
      "metadata": {
        "id": "1tE0CnRnk16I",
        "colab_type": "code",
        "colab": {}
      },
      "source": [
        ""
      ],
      "execution_count": 0,
      "outputs": []
    },
    {
      "cell_type": "markdown",
      "metadata": {
        "id": "cWYcHIdhk16K",
        "colab_type": "text"
      },
      "source": [
        "# Tune Hyperparameters"
      ]
    },
    {
      "cell_type": "code",
      "metadata": {
        "id": "lDPb1P7Bk16L",
        "colab_type": "code",
        "colab": {}
      },
      "source": [
        "from collections.abc import Mapping, Sequence, Iterable\n",
        "from itertools import product\n",
        "from functools import partial, reduce\n",
        "import operator\n",
        "\n",
        "class TimeGridBasic(base.BaseEstimator, base.RegressorMixin):\n",
        "    \n",
        "    def __init__(self,param_grid):\n",
        "        \n",
        "    \n",
        "        if not isinstance(param_grid, (Mapping, Iterable)):\n",
        "                raise TypeError('Parameter grid is not a dict or '\n",
        "                                'a list ({!r})'.format(param_grid))\n",
        "\n",
        "        if isinstance(param_grid, Mapping):\n",
        "                # wrap dictionary in a singleton list to support either dict\n",
        "                # or list of dicts\n",
        "                param_grid = [param_grid]\n",
        "\n",
        "\n",
        "        if isinstance(param_grid, Mapping):\n",
        "                # wrap dictionary in a singleton list to support either dict\n",
        "                # or list of dicts\n",
        "                param_grid = [param_grid]\n",
        "\n",
        "        # check if all entries are dictionaries of lists\n",
        "        for grid in param_grid:\n",
        "            if not isinstance(grid, dict):\n",
        "                raise TypeError('Parameter grid is not a '\n",
        "                                'dict ({!r})'.format(grid))\n",
        "            for key in grid:\n",
        "                if not isinstance(grid[key], Iterable):\n",
        "                    raise TypeError('Parameter grid value is not iterable '\n",
        "                                    '(key={!r}, value={!r})'\n",
        "                                    .format(key, grid[key]))\n",
        "\n",
        "\n",
        "        self.param_grid = param_grid\n",
        "                \n",
        "    def __iter__(self):\n",
        "        \"\"\"Iterate over the points in the grid.\n",
        "        Returns\n",
        "        -------\n",
        "        params : iterator over dict of string to any\n",
        "            Yields dictionaries mapping each estimator parameter to one of its\n",
        "            allowed values.\n",
        "        \"\"\"\n",
        "        for p in self.param_grid:\n",
        "            # Always sort the keys of a dictionary, for reproducibility\n",
        "            items = sorted(p.items())\n",
        "            if not items:\n",
        "                yield {}\n",
        "            else:\n",
        "                keys, values = zip(*items)\n",
        "                for v in product(*values):\n",
        "                    params = dict(zip(keys, v))\n",
        "                    yield params   "
      ],
      "execution_count": 0,
      "outputs": []
    },
    {
      "cell_type": "code",
      "metadata": {
        "id": "eaF9sR72k16N",
        "colab_type": "code",
        "colab": {}
      },
      "source": [
        "class TimeSeriesGridSearch(TimeGridBasic,base.BaseEstimator, base.RegressorMixin):\n",
        "    \n",
        "    \n",
        "    def __init__(self,**options):\n",
        "        \n",
        "        self.model      = options.pop('model', None)\n",
        "        self.cv         = options.pop('cv', None)\n",
        "        self.verbosity  = options.pop('verbosity', False)\n",
        "        self.scoring    = options.pop('scoring', None)\n",
        "        param_grid      = options.pop('param_grid', None)\n",
        "        self.param_grid = TimeGridBasic(param_grid)\n",
        "        \n",
        "        if options:\n",
        "            raise TypeError(\"Invalid parameters passed: %s\" % str(options))\n",
        "\n",
        "        if ((self.model==None )| (self.cv==None)):\n",
        "            raise TypeError(\"Incomplete inputs\")\n",
        "            \n",
        "            \n",
        "    def fit(self,X,y=None):\n",
        "        self.X = X\n",
        "        return self\n",
        "\n",
        "\n",
        "    def _get_score(self,param):\n",
        "\n",
        "        errors = []\n",
        "        for indx,fold in enumerate(self.cv.split(self.X)):\n",
        "\n",
        "            X_train, X_test, y_train, y_test = fold    \n",
        "            self.model.set_params(**param).fit(X_train, np.log1p(y_train))\n",
        "            prediction = np.expm1(self.model.predict(X_test))\n",
        "            error = self.scoring(y_test, prediction)\n",
        "            errors.append(error)\n",
        "\n",
        "            if self.verbosity:\n",
        "                print(\"Fold: {}, Error: {:.4f}\".format(indx,error))\n",
        "\n",
        "        if self.verbosity:\n",
        "                print('Total Error {:.4f}'.format(np.mean(errors)))\n",
        "                \n",
        "        \n",
        "        return errors\n",
        "\n",
        "    def score(self):\n",
        "\n",
        "        errors=[]\n",
        "        get_param = []\n",
        "        for param in self.param_grid:\n",
        "            \n",
        "            if self.verbosity:\n",
        "                print(param)\n",
        "                \n",
        "            errors.append(np.mean(self._get_score(param)))\n",
        "            get_param.append(param)\n",
        "\n",
        "        self.sorted_errors,self.sorted_params = (list(t) for t in zip(*sorted(zip(errors,get_param))))\n",
        "        \n",
        "        return self.sorted_errors,self.sorted_params\n",
        "    \n",
        "    \n",
        "    def best_estimator(self,verbosity=False):\n",
        "\n",
        "        if verbosity:\n",
        "            print('error: {:.4f} \\n'.format(self.sorted_errors[0]))\n",
        "            print('Best params:')\n",
        "            print(self.sorted_params[0])\n",
        "\n",
        "        return self.sorted_params[0]\n",
        "\n",
        "\n"
      ],
      "execution_count": 0,
      "outputs": []
    },
    {
      "cell_type": "code",
      "metadata": {
        "id": "Bt9dljR6k16O",
        "colab_type": "code",
        "colab": {}
      },
      "source": [
        ""
      ],
      "execution_count": 0,
      "outputs": []
    },
    {
      "cell_type": "code",
      "metadata": {
        "id": "pOUSXaw0k16Q",
        "colab_type": "code",
        "colab": {}
      },
      "source": [
        ""
      ],
      "execution_count": 0,
      "outputs": []
    },
    {
      "cell_type": "markdown",
      "metadata": {
        "id": "S9cXIx9Yk16T",
        "colab_type": "text"
      },
      "source": [
        "# Sales Distribution "
      ]
    },
    {
      "cell_type": "code",
      "metadata": {
        "id": "BYNozT6vk16T",
        "colab_type": "code",
        "colab": {}
      },
      "source": [
        "df['Sales'].hist(bins=20, figsize=(10,5))\n",
        "plt.xlabel('Number of Sales',fontsize=14)\n",
        "plt.ylabel('Count Number of Sales',fontsize=14)\n",
        "plt.title('Sales',fontsize=20)\n",
        "plt.show()"
      ],
      "execution_count": 0,
      "outputs": []
    },
    {
      "cell_type": "markdown",
      "metadata": {
        "id": "rtVigbzNk16V",
        "colab_type": "text"
      },
      "source": [
        "# Data Prepration"
      ]
    },
    {
      "cell_type": "code",
      "metadata": {
        "id": "Pi8HCkJhk16V",
        "colab_type": "code",
        "colab": {}
      },
      "source": [
        "steps = [('1_step',ToSupervised('Sales','Product_Code',1)),\n",
        "         ('1_step_diff',ToSupervisedDiff('1_Week_Ago_Sales','Product_Code',1,dropna=True))]\n",
        "super_1 = Pipeline(steps).fit_transform(df)"
      ],
      "execution_count": 0,
      "outputs": []
    },
    {
      "cell_type": "code",
      "metadata": {
        "id": "Pl0oRNark16X",
        "colab_type": "code",
        "colab": {}
      },
      "source": [
        "super_1.head()"
      ],
      "execution_count": 0,
      "outputs": []
    },
    {
      "cell_type": "code",
      "metadata": {
        "id": "dACIQs3ak16Z",
        "colab_type": "code",
        "colab": {}
      },
      "source": [
        ""
      ],
      "execution_count": 0,
      "outputs": []
    },
    {
      "cell_type": "markdown",
      "metadata": {
        "id": "dwsYV3Ogk16b",
        "colab_type": "text"
      },
      "source": [
        "# Base Model"
      ]
    },
    {
      "cell_type": "code",
      "metadata": {
        "id": "QC_UbXuQk16b",
        "colab_type": "code",
        "colab": {}
      },
      "source": [
        "kf = Kfold_time(target='Sales',date_col = 'Week',date_init=40,date_final=52)"
      ],
      "execution_count": 0,
      "outputs": []
    },
    {
      "cell_type": "code",
      "metadata": {
        "id": "Id7G4t8tk16d",
        "colab_type": "code",
        "colab": {}
      },
      "source": [
        "base_model = BaseEstimator('1_Week_Ago_Sales')\n",
        "errors = []\n",
        "for indx,fold in enumerate(kf.split(super_1)):\n",
        "    X_train, X_test, y_train, y_test = fold\n",
        "    error = base_model.score(X_test,y_test,rmsle)\n",
        "    errors.append(error)\n",
        "    print(\"Fold: {}, Error: {:.3f}\".format(indx,error))\n",
        "    \n",
        "print('Total Error {:.3f}'.format(np.mean(errors)))"
      ],
      "execution_count": 0,
      "outputs": []
    },
    {
      "cell_type": "code",
      "metadata": {
        "id": "RGBemF56k16f",
        "colab_type": "code",
        "colab": {}
      },
      "source": [
        ""
      ],
      "execution_count": 0,
      "outputs": []
    },
    {
      "cell_type": "markdown",
      "metadata": {
        "id": "X3Y1hz-ak16g",
        "colab_type": "text"
      },
      "source": [
        "# First Model - One Step"
      ]
    },
    {
      "cell_type": "code",
      "metadata": {
        "id": "IkGsqJQUk16h",
        "colab_type": "code",
        "colab": {}
      },
      "source": [
        "model = RandomForestRegressor(n_estimators=1000, n_jobs=-1, random_state=0)"
      ],
      "execution_count": 0,
      "outputs": []
    },
    {
      "cell_type": "code",
      "metadata": {
        "id": "guX6fmNHk16i",
        "colab_type": "code",
        "colab": {}
      },
      "source": [
        "steps_1 = [('1_step',ToSupervised('Sales','Product_Code',1)),\n",
        "         ('1_step_diff',ToSupervisedDiff('1_Week_Ago_Sales','Product_Code',1,dropna=True)),\n",
        "         ('predic_1',TimeSeriesRegressor(model=model,cv=kf,scoring=rmsle))]\n",
        "super_1_p = Pipeline(steps_1).fit(df)"
      ],
      "execution_count": 0,
      "outputs": []
    },
    {
      "cell_type": "code",
      "metadata": {
        "id": "K85keecdk16k",
        "colab_type": "code",
        "colab": {}
      },
      "source": [
        "Model_1_Error = super_1_p.score(df)"
      ],
      "execution_count": 0,
      "outputs": []
    },
    {
      "cell_type": "code",
      "metadata": {
        "id": "uL5HA78Jk16m",
        "colab_type": "code",
        "colab": {}
      },
      "source": [
        ""
      ],
      "execution_count": 0,
      "outputs": []
    },
    {
      "cell_type": "markdown",
      "metadata": {
        "id": "wC5HB-lPk16n",
        "colab_type": "text"
      },
      "source": [
        "# Second Model - Four Steps"
      ]
    },
    {
      "cell_type": "code",
      "metadata": {
        "id": "AE3CUg7vk16o",
        "colab_type": "code",
        "colab": {}
      },
      "source": [
        "steps_3 = [('1_step',ToSupervised('Sales','Product_Code',3)),\n",
        "         ('1_step_diff',ToSupervisedDiff('1_Week_Ago_Sales','Product_Code',1)),\n",
        "         ('2_step_diff',ToSupervisedDiff('2_Week_Ago_Sales','Product_Code',1)),\n",
        "         ('3_step_diff',ToSupervisedDiff('3_Week_Ago_Sales','Product_Code',1,dropna=True)),\n",
        "         ('predic_3',TimeSeriesRegressor(model=model,cv=kf,scoring=rmsle))]\n",
        "super_3_p = Pipeline(steps_3).fit(df)"
      ],
      "execution_count": 0,
      "outputs": []
    },
    {
      "cell_type": "code",
      "metadata": {
        "id": "U8jjMEInk16p",
        "colab_type": "code",
        "colab": {}
      },
      "source": [
        "Model_3_Error = super_3_p.score(df)"
      ],
      "execution_count": 0,
      "outputs": []
    },
    {
      "cell_type": "code",
      "metadata": {
        "id": "CAebDxo6k16r",
        "colab_type": "code",
        "colab": {}
      },
      "source": [
        ""
      ],
      "execution_count": 0,
      "outputs": []
    },
    {
      "cell_type": "markdown",
      "metadata": {
        "id": "qO-kseu0k16s",
        "colab_type": "text"
      },
      "source": [
        "# Change the Target Distribution"
      ]
    },
    {
      "cell_type": "code",
      "metadata": {
        "id": "YlGoXqLIk16t",
        "colab_type": "code",
        "colab": {}
      },
      "source": [
        "steps_3_log = [('1_step',ToSupervised('Sales','Product_Code',3)),\n",
        "         ('1_step_diff',ToSupervisedDiff('1_Week_Ago_Sales','Product_Code',1)),\n",
        "         ('2_step_diff',ToSupervisedDiff('2_Week_Ago_Sales','Product_Code',1)),\n",
        "         ('3_step_diff',ToSupervisedDiff('3_Week_Ago_Sales','Product_Code',1,dropna=True)),\n",
        "         ('predic_3',TimeSeriesRegressorLog(model=model,cv=kf,scoring=rmsle))]\n",
        "super_3_p_log = Pipeline(steps_3_log).fit(df)"
      ],
      "execution_count": 0,
      "outputs": []
    },
    {
      "cell_type": "code",
      "metadata": {
        "id": "_xgN6QVHk16u",
        "colab_type": "code",
        "colab": {}
      },
      "source": [
        "Model_3_Log_Error = super_3_p_log.score(df)"
      ],
      "execution_count": 0,
      "outputs": []
    },
    {
      "cell_type": "markdown",
      "metadata": {
        "id": "xl6mxX77k16w",
        "colab_type": "text"
      },
      "source": [
        "# LightGBM Model"
      ]
    },
    {
      "cell_type": "code",
      "metadata": {
        "id": "yiOoY918k16w",
        "colab_type": "code",
        "colab": {}
      },
      "source": [
        "model_lgb = LGBMRegressor(n_estimators=1000, learning_rate=0.01)\n",
        "steps_3_log_lgbm = [('1_step',ToSupervised('Sales','Product_Code',3)),\n",
        "         ('1_step_diff',ToSupervisedDiff('1_Week_Ago_Sales','Product_Code',1)),\n",
        "         ('2_step_diff',ToSupervisedDiff('2_Week_Ago_Sales','Product_Code',1)),\n",
        "         ('3_step_diff',ToSupervisedDiff('3_Week_Ago_Sales','Product_Code',1,dropna=True)),\n",
        "         ('predic_3',TimeSeriesRegressorLog(model=model_lgb ,cv=kf,scoring=rmsle))]\n",
        "super_3_p_log_lgbm = Pipeline(steps_3_log_lgbm).fit(df)"
      ],
      "execution_count": 0,
      "outputs": []
    },
    {
      "cell_type": "code",
      "metadata": {
        "id": "mch2YIHgk16z",
        "colab_type": "code",
        "colab": {}
      },
      "source": [
        "Model_3_Log_Error = super_3_p_log_lgbm.score(df)"
      ],
      "execution_count": 0,
      "outputs": []
    },
    {
      "cell_type": "markdown",
      "metadata": {
        "id": "og0TMid9k162",
        "colab_type": "text"
      },
      "source": [
        "# Tuning Number of Steps"
      ]
    },
    {
      "cell_type": "code",
      "metadata": {
        "id": "dY9TwORek163",
        "colab_type": "code",
        "colab": {}
      },
      "source": [
        "model_lgbm = LGBMRegressor(n_estimators=1000, learning_rate=0.01)\n",
        "list_scores2 = stepsTune(df,\n",
        "                         TimeSeriesRegressorLog(model=model_lgbm,scoring=rmsle,\n",
        "                                             cv=kf,verbosity=False),20)\n"
      ],
      "execution_count": 0,
      "outputs": []
    },
    {
      "cell_type": "code",
      "metadata": {
        "id": "wuY34Vlpk165",
        "colab_type": "code",
        "colab": {}
      },
      "source": [
        ""
      ],
      "execution_count": 0,
      "outputs": []
    },
    {
      "cell_type": "code",
      "metadata": {
        "id": "zUwJ-mW_k168",
        "colab_type": "code",
        "colab": {}
      },
      "source": [
        "plt.figure(figsize=(10,6))\n",
        "x = [i[0] for i in list_scores2]\n",
        "y = [i[1] for i in list_scores2]\n",
        "plt.plot(x,y,color='green', marker='o', linestyle='dashed',\n",
        "        linewidth=2, markersize=12)\n",
        "plt.xticks(np.arange(0, 21, step=1))\n",
        "plt.xlabel('Steps',fontsize=14)\n",
        "plt.ylabel('RMSLE',fontsize=14)\n",
        "plt.title('Steps Tuning',fontsize=18)"
      ],
      "execution_count": 0,
      "outputs": []
    },
    {
      "cell_type": "code",
      "metadata": {
        "id": "SWSTI8GLk16-",
        "colab_type": "code",
        "colab": {}
      },
      "source": [
        ""
      ],
      "execution_count": 0,
      "outputs": []
    },
    {
      "cell_type": "markdown",
      "metadata": {
        "id": "hclyOxCak17A",
        "colab_type": "text"
      },
      "source": [
        "# Tune Hyperparameters"
      ]
    },
    {
      "cell_type": "code",
      "metadata": {
        "id": "kAnwd8Vxk17A",
        "colab_type": "code",
        "colab": {}
      },
      "source": [
        ""
      ],
      "execution_count": 0,
      "outputs": []
    },
    {
      "cell_type": "code",
      "metadata": {
        "id": "V-8fB7Hlk17B",
        "colab_type": "code",
        "colab": {}
      },
      "source": [
        "params = {'n_estimators':[100,500,1000,1500,2000],\n",
        "         'learning_rate':[0.005,.01,.1]}\n",
        "\n",
        "steps_20 = getDataFramePipeline(20)\n",
        "super_20 = Pipeline(steps_20).fit_transform(df)\n",
        "\n",
        "\n",
        "model_lgbm2 = LGBMRegressor(random_state=0)\n",
        "tune_lgbm =TimeSeriesGridSearch(model = model_lgbm2, cv = kf,param_grid=params,verbosity=False,scoring=rmsle)"
      ],
      "execution_count": 0,
      "outputs": []
    },
    {
      "cell_type": "code",
      "metadata": {
        "id": "oYFXSDLBk17D",
        "colab_type": "code",
        "colab": {}
      },
      "source": [
        "tt = tune_lgbm.fit(super_20).score()"
      ],
      "execution_count": 0,
      "outputs": []
    },
    {
      "cell_type": "code",
      "metadata": {
        "id": "yFICuVgKk17G",
        "colab_type": "code",
        "colab": {}
      },
      "source": [
        ""
      ],
      "execution_count": 0,
      "outputs": []
    },
    {
      "cell_type": "code",
      "metadata": {
        "id": "SHxRdGAek17H",
        "colab_type": "code",
        "colab": {}
      },
      "source": [
        ""
      ],
      "execution_count": 0,
      "outputs": []
    },
    {
      "cell_type": "markdown",
      "metadata": {
        "id": "BthsfJwtk17I",
        "colab_type": "text"
      },
      "source": [
        "# Prediction vs. Real Sales"
      ]
    },
    {
      "cell_type": "code",
      "metadata": {
        "id": "n1G7cjYhk17I",
        "colab_type": "code",
        "colab": {}
      },
      "source": [
        ""
      ],
      "execution_count": 0,
      "outputs": []
    },
    {
      "cell_type": "code",
      "metadata": {
        "id": "93Rsf57Fk17J",
        "colab_type": "code",
        "colab": {}
      },
      "source": [
        "kf_51 = Kfold_time(target='Sales',date_col = 'Week',date_init=51,date_final=52)"
      ],
      "execution_count": 0,
      "outputs": []
    },
    {
      "cell_type": "code",
      "metadata": {
        "id": "ftwoaBC-k17L",
        "colab_type": "code",
        "colab": {}
      },
      "source": [
        "best_param = tune_lgbm.best_estimator()\n",
        "model_lgbmf = LGBMRegressor(**best_param,random_state=0)\n",
        "\n",
        "T_51 = TimeSeriesRegressorLog(model=model_lgbmf ,scoring=rmsle,\n",
        "                                             cv=kf_51,verbosity=False)\n",
        "T_51.fit(super_20)\n",
        "prediction_51 =T_51.predict(super_20)"
      ],
      "execution_count": 0,
      "outputs": []
    },
    {
      "cell_type": "code",
      "metadata": {
        "id": "3x-bt6j9k17N",
        "colab_type": "code",
        "colab": {}
      },
      "source": [
        "prediction_51.head()"
      ],
      "execution_count": 0,
      "outputs": []
    },
    {
      "cell_type": "code",
      "metadata": {
        "id": "_u5GhPVBk17P",
        "colab_type": "code",
        "colab": {}
      },
      "source": [
        "plt.figure(figsize=(8,8))\n",
        "plt.scatter(prediction_51['0_fold'],df[df['Week']==51]['Sales'])\n",
        "plt.xlabel('Sales',fontsize=14)\n",
        "plt.ylabel('Prediction',fontsize=14)\n",
        "plt.xlim((-1,40))\n",
        "plt.ylim((-1,40))\n",
        "plt.title('Prediction vs Sales for Week 52',fontsize=18)\n",
        "plt.show()"
      ],
      "execution_count": 0,
      "outputs": []
    },
    {
      "cell_type": "code",
      "metadata": {
        "id": "ATvCuEe4k17Q",
        "colab_type": "code",
        "colab": {}
      },
      "source": [
        ""
      ],
      "execution_count": 0,
      "outputs": []
    },
    {
      "cell_type": "code",
      "metadata": {
        "id": "y6qA7sSZk17S",
        "colab_type": "code",
        "colab": {}
      },
      "source": [
        "models=['Baseline','First Model','Second Model','Log Trans','LGBM','Tuning']\n",
        "models_erros = [0.516,0.4619,0.4355,0.4259,0.4052,0.3868]\n",
        "plt.figure(figsize=(8,8))\n",
        "plt.plot(np.arange(6),models_erros,color='red', marker='o', linestyle='dashed',\n",
        "        linewidth=2, markersize=12)\n",
        "plt.xticks(np.arange(6), models)\n",
        "plt.xlabel('Models',fontsize=14)\n",
        "plt.ylabel('RMSLE',fontsize=14)\n",
        "plt.title('Models Score',fontsize=18)\n",
        "plt.show()"
      ],
      "execution_count": 0,
      "outputs": []
    },
    {
      "cell_type": "code",
      "metadata": {
        "id": "zmwIbDPrk17T",
        "colab_type": "code",
        "colab": {}
      },
      "source": [
        ""
      ],
      "execution_count": 0,
      "outputs": []
    },
    {
      "cell_type": "code",
      "metadata": {
        "id": "QqE8xCllk17U",
        "colab_type": "code",
        "colab": {}
      },
      "source": [
        "print('Error reduce: ',(0.516 - 0.3868)/0.516*100)"
      ],
      "execution_count": 0,
      "outputs": []
    },
    {
      "cell_type": "code",
      "metadata": {
        "id": "mz1PR_L7k17X",
        "colab_type": "code",
        "colab": {}
      },
      "source": [
        ""
      ],
      "execution_count": 0,
      "outputs": []
    },
    {
      "cell_type": "code",
      "metadata": {
        "id": "Wg2k-8wYk17a",
        "colab_type": "code",
        "colab": {}
      },
      "source": [
        ""
      ],
      "execution_count": 0,
      "outputs": []
    },
    {
      "cell_type": "code",
      "metadata": {
        "id": "4NaduEAYk17b",
        "colab_type": "code",
        "colab": {}
      },
      "source": [
        ""
      ],
      "execution_count": 0,
      "outputs": []
    },
    {
      "cell_type": "code",
      "metadata": {
        "id": "DjykVyIvk17d",
        "colab_type": "code",
        "colab": {}
      },
      "source": [
        ""
      ],
      "execution_count": 0,
      "outputs": []
    },
    {
      "cell_type": "code",
      "metadata": {
        "id": "EMaCE5Kxk17e",
        "colab_type": "code",
        "colab": {}
      },
      "source": [
        ""
      ],
      "execution_count": 0,
      "outputs": []
    }
  ]
}